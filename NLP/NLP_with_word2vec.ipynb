{
 "cells": [
  {
   "cell_type": "code",
   "execution_count": 86,
   "metadata": {},
   "outputs": [],
   "source": [
    "import numpy as np\n",
    "import pandas as pd\n",
    "import re\n",
    "import json \n",
    "import sys\n",
    "import codecs \n",
    "import nltk\n",
    "from nltk.corpus import stopwords\n",
    "from pymystem3 import Mystem\n",
    "from sklearn.feature_extraction.text import CountVectorizer\n",
    "from sklearn.ensemble import RandomForestClassifier\n",
    "import operator\n",
    "import pickle \n",
    "import nltk.data\n",
    "from sklearn.model_selection import train_test_split\n",
    "import math\n",
    "from sklearn import metrics\n",
    "import matplotlib.pyplot as plt\n",
    "%matplotlib inline"
   ]
  },
  {
   "cell_type": "code",
   "execution_count": 2,
   "metadata": {
    "collapsed": true
   },
   "outputs": [],
   "source": [
    "#open raw data in json format \n",
    "with open(\"data_raw.json\") as f:\n",
    "    data = json.loads(f.read())"
   ]
  },
  {
   "cell_type": "markdown",
   "metadata": {},
   "source": [
    "# 1 Cleaning and vectorization process\n"
   ]
  },
  {
   "cell_type": "markdown",
   "metadata": {},
   "source": [
    "## 1.1 Cleaning data"
   ]
  },
  {
   "cell_type": "code",
   "execution_count": 3,
   "metadata": {
    "collapsed": true
   },
   "outputs": [],
   "source": [
    "m = Mystem() # from Yandex stopwords library\n",
    "stopWords = set(stopwords.words(\"russian\")) # set our language to russian"
   ]
  },
  {
   "cell_type": "code",
   "execution_count": 4,
   "metadata": {
    "collapsed": true
   },
   "outputs": [],
   "source": [
    "#add new 'Vk popular' stop words by hand (195)\n",
    "badwords = [\n",
    "u'я', u'а', u'да', u'но', u'тебе', u'мне', u'ты', u'и', u'у', u'на', u'ща', u'ага',\n",
    "u'так', u'там', u'какие', u'который', u'какая', u'туда', u'давай', u'короче', u'кажется', u'вообще',\n",
    "u'ну', u'не', u'чет', u'неа', u'свои', u'наше', u'хотя', u'такое', u'например', u'кароч', u'как-то',\n",
    "u'нам', u'хм', u'всем', u'нет', u'да', u'оно', u'своем', u'про', u'вы', u'м', u'тд',\n",
    "u'вся', u'кто-то', u'что-то', u'вам', u'это', u'эта', u'эти', u'этот', u'прям', u'либо', u'как', u'мы',\n",
    "u'просто', u'блин', u'очень', u'самые', u'твоем', u'ваша', u'кстати', u'вроде', u'типа', u'пока', u'ок',u'в'\n",
    ",u'б',u'г',u'д',u'е',u'ж',u'з',u'й',u'к',u'л',u'ф',u'н',u'о',u'п',u'р',u'с',u'т',u'ч',u'ц',u'ч',u'ш',u'щ',u'ь'\n",
    ",u'ъ',u'ы',u'э','ю']\n",
    "\n",
    "for words in badwords:\n",
    "    stopWords.add(words)"
   ]
  },
  {
   "cell_type": "code",
   "execution_count": 5,
   "metadata": {
    "collapsed": true
   },
   "outputs": [],
   "source": [
    "# lemmatization of words\n",
    "def lemma(data):\n",
    "    lemmas = m.lemmatize(data)\n",
    "    return ''.join(lemmas)"
   ]
  },
  {
   "cell_type": "code",
   "execution_count": 6,
   "metadata": {
    "collapsed": true
   },
   "outputs": [],
   "source": [
    "# deletes all stopwords\n",
    "def stop_remove(data):\n",
    "    for x in stopWords:\n",
    "        if x in data:\n",
    "            for item in range(data.count(x)):\n",
    "                data.remove(x)\n",
    "    return data            "
   ]
  },
  {
   "cell_type": "code",
   "execution_count": 7,
   "metadata": {
    "collapsed": true
   },
   "outputs": [],
   "source": [
    "# all cleaning processes \n",
    "def cleansing(data):\n",
    "    cleaned_data = re.sub(\"[^а-яА-ЯЁё]\",\" \", data) #non-cyrillic letters\n",
    "    cleaned_data = lemma(cleaned_data) # lemmatization\n",
    "    cleaned_data = cleaned_data.lower().split() # split our sentences to words and set it to lowercase\n",
    "    cleaned_data = stop_remove(cleaned_data) # remove stop words\n",
    "    return cleaned_data"
   ]
  },
  {
   "cell_type": "code",
   "execution_count": 9,
   "metadata": {
    "collapsed": true
   },
   "outputs": [],
   "source": [
    "#cleaning\n",
    "for i in range (0,len(data)):\n",
    "    data[i][\"text\"] = cleansing(data[i][\"text\"])"
   ]
  },
  {
   "cell_type": "code",
   "execution_count": 10,
   "metadata": {},
   "outputs": [
    {
     "name": "stdout",
     "output_type": "stream",
     "text": [
      "46596\n",
      "20640\n"
     ]
    }
   ],
   "source": [
    "# deleting duplicates \n",
    "new_list = list()\n",
    "cnt = 0\n",
    "for i in data:\n",
    "    if (i not in new_list):\n",
    "        new_list.append(i)\n",
    "    else:\n",
    "        cnt+=1\n",
    "print (cnt)\n",
    "\n",
    "#deleting duplicates with the same text but with different sentiment\n",
    "new_list2 = list()\n",
    "cnt = 0\n",
    "for i in new_list:\n",
    "    check = False\n",
    "    for j in new_list:\n",
    "        if (i[\"text\"] == j[\"text\"]) and ( i[\"manual_sentiment\"] != j[\"manual_sentiment\"] ):\n",
    "            check = True\n",
    "            cnt+=1\n",
    "    if check == False:\n",
    "        new_list2.append(i)\n",
    "print(cnt)\n",
    "new_list.clear()"
   ]
  },
  {
   "cell_type": "code",
   "execution_count": 35,
   "metadata": {
    "collapsed": true
   },
   "outputs": [],
   "source": [
    "# divide our data into text and sentiment (where positive = 1, neutral = 0, negative = -1)\n",
    "text = []\n",
    "sentiment = []\n",
    "for item in data:\n",
    "    text.append(item['text'])\n",
    "    if item['manual_sentiment'] == 'neutral':\n",
    "        sentiment.append(0)\n",
    "    elif item['manual_sentiment'] == 'positive':\n",
    "        sentiment.append(1)\n",
    "    else:\n",
    "        sentiment.append(-1)"
   ]
  },
  {
   "cell_type": "markdown",
   "metadata": {},
   "source": [
    "## 1.2 Vectorization with averaging "
   ]
  },
  {
   "cell_type": "code",
   "execution_count": 114,
   "metadata": {
    "collapsed": true
   },
   "outputs": [],
   "source": [
    "num_features = 50 # dimension\n",
    "min_word_count = 40 # minimum word count\n",
    "num_workers = 4 # n of threads \n",
    "context = 10 # context window size\n",
    "downsampling = 1e-3\n",
    "\n",
    "from gensim.models import word2vec\n",
    "model = word2vec.Word2Vec(text,workers=num_workers,size=num_features,\\\n",
    "                          min_count=min_word_count,window=context,\n",
    "                          sample=downsampling)"
   ]
  },
  {
   "cell_type": "code",
   "execution_count": 115,
   "metadata": {
    "collapsed": true
   },
   "outputs": [],
   "source": [
    "#for memory-efficency\n",
    "model.init_sims(replace = True)"
   ]
  },
  {
   "cell_type": "code",
   "execution_count": 116,
   "metadata": {
    "collapsed": true
   },
   "outputs": [],
   "source": [
    "model_name = \"Russian_word2vec\""
   ]
  },
  {
   "cell_type": "code",
   "execution_count": 117,
   "metadata": {
    "collapsed": true
   },
   "outputs": [],
   "source": [
    "model.save(model_name)"
   ]
  },
  {
   "cell_type": "code",
   "execution_count": 118,
   "metadata": {},
   "outputs": [
    {
     "data": {
      "text/plain": [
       "[('международный', 0.6190066933631897),\n",
       " ('снг', 0.6153033971786499),\n",
       " ('казахстанский', 0.6145889759063721),\n",
       " ('страна', 0.6022635102272034),\n",
       " ('всемирный', 0.5864023566246033),\n",
       " ('армения', 0.5746820569038391),\n",
       " ('национальный', 0.5630109906196594),\n",
       " ('оэср', 0.5443229675292969),\n",
       " ('стратегический', 0.5441406965255737),\n",
       " ('беларусь', 0.5316131711006165)]"
      ]
     },
     "execution_count": 118,
     "metadata": {},
     "output_type": "execute_result"
    }
   ],
   "source": [
    "# to be sure that our model works\n",
    "model.most_similar('казахстан')"
   ]
  },
  {
   "cell_type": "code",
   "execution_count": 119,
   "metadata": {
    "collapsed": true
   },
   "outputs": [],
   "source": [
    "#function to average all of the word vectors in a given paragraph\n",
    "def makeFeatureVec(words,model,num_features):\n",
    "    featureVec = np.zeros((num_features,),dtype='float32')\n",
    "    n = 0\n",
    "    index2word_set = set(model.wv.index2word)\n",
    "    \n",
    "    for word in words:\n",
    "        if word in index2word_set:\n",
    "            n+=1\n",
    "            featureVec = np.add(featureVec,model[word])\n",
    "    featureVec = np.divide(featureVec,n)\n",
    "    return featureVec"
   ]
  },
  {
   "cell_type": "code",
   "execution_count": 120,
   "metadata": {
    "collapsed": true
   },
   "outputs": [],
   "source": [
    "# Calculate the average feature vector for each one and return a 2d np array\n",
    "def getAverageVec(posts, model, num_features):\n",
    "    cnt = 0\n",
    "    reviewFeatureVecs = np.zeros((len(posts),num_features),dtype='float32')\n",
    "    \n",
    "    for sentence in posts:\n",
    "        reviewFeatureVecs[cnt] = makeFeatureVec(sentence,model,num_features)\n",
    "        cnt+=1\n",
    "    return reviewFeatureVecs    "
   ]
  },
  {
   "cell_type": "code",
   "execution_count": 121,
   "metadata": {},
   "outputs": [
    {
     "name": "stderr",
     "output_type": "stream",
     "text": [
      "/home/danit/anaconda3/lib/python3.6/site-packages/ipykernel_launcher.py:11: RuntimeWarning: invalid value encountered in true_divide\n",
      "  # This is added back by InteractiveShellApp.init_path()\n"
     ]
    }
   ],
   "source": [
    "# make processed data\n",
    "DataVecs = getAverageVec(text,model,num_features)"
   ]
  },
  {
   "cell_type": "markdown",
   "metadata": {},
   "source": [
    "Firstly, we have to check that our data contains NAN, strings and other non-numeric elements"
   ]
  },
  {
   "cell_type": "code",
   "execution_count": 125,
   "metadata": {},
   "outputs": [
    {
     "data": {
      "text/plain": [
       "True"
      ]
     },
     "execution_count": 125,
     "metadata": {},
     "output_type": "execute_result"
    }
   ],
   "source": [
    "np.isnan(DataVecs).any()"
   ]
  },
  {
   "cell_type": "markdown",
   "metadata": {},
   "source": [
    "Then we check how many nan elements is in our dataset"
   ]
  },
  {
   "cell_type": "code",
   "execution_count": 126,
   "metadata": {},
   "outputs": [
    {
     "data": {
      "text/plain": [
       "1000"
      ]
     },
     "execution_count": 126,
     "metadata": {},
     "output_type": "execute_result"
    }
   ],
   "source": [
    "np.count_nonzero(np.isnan(DataVecs))"
   ]
  },
  {
   "cell_type": "markdown",
   "metadata": {},
   "source": [
    "With built-in function \"nan_to_num\" replace all nan values to zero"
   ]
  },
  {
   "cell_type": "code",
   "execution_count": 127,
   "metadata": {},
   "outputs": [],
   "source": [
    "DataVecs = np.nan_to_num(DataVecs)"
   ]
  },
  {
   "cell_type": "markdown",
   "metadata": {},
   "source": [
    "# Building and Investigating which model is the best"
   ]
  },
  {
   "cell_type": "markdown",
   "metadata": {},
   "source": [
    "Just to be sure that everything is ok"
   ]
  },
  {
   "cell_type": "code",
   "execution_count": 128,
   "metadata": {},
   "outputs": [
    {
     "data": {
      "text/plain": [
       "False"
      ]
     },
     "execution_count": 128,
     "metadata": {},
     "output_type": "execute_result"
    }
   ],
   "source": [
    "np.isnan(DataVecs).any()"
   ]
  },
  {
   "cell_type": "code",
   "execution_count": 129,
   "metadata": {},
   "outputs": [],
   "source": [
    "#divide our data into training_set = 0.8 and testing_set = 20\n",
    "X_train, X_test, y_train, y_test = train_test_split(DataVecs, sentiment, test_size=0.2,random_state = 42)"
   ]
  },
  {
   "cell_type": "markdown",
   "metadata": {},
   "source": [
    "## Primitive model building"
   ]
  },
  {
   "cell_type": "code",
   "execution_count": 68,
   "metadata": {},
   "outputs": [],
   "source": [
    "forest = RandomForestClassifier(n_estimators=100)"
   ]
  },
  {
   "cell_type": "code",
   "execution_count": 82,
   "metadata": {},
   "outputs": [
    {
     "data": {
      "text/plain": [
       "RandomForestClassifier(bootstrap=True, class_weight=None, criterion='gini',\n",
       "            max_depth=None, max_features='auto', max_leaf_nodes=None,\n",
       "            min_impurity_split=1e-07, min_samples_leaf=1,\n",
       "            min_samples_split=2, min_weight_fraction_leaf=0.0,\n",
       "            n_estimators=100, n_jobs=1, oob_score=False, random_state=None,\n",
       "            verbose=0, warm_start=False)"
      ]
     },
     "execution_count": 82,
     "metadata": {},
     "output_type": "execute_result"
    }
   ],
   "source": [
    "forest.fit(X_train,y_train)"
   ]
  },
  {
   "cell_type": "code",
   "execution_count": 83,
   "metadata": {},
   "outputs": [
    {
     "name": "stdout",
     "output_type": "stream",
     "text": [
      "0.816625764965\n",
      "             precision    recall  f1-score   support\n",
      "\n",
      "         -1       0.62      0.80      0.70      1995\n",
      "          0       0.86      0.82      0.84     18364\n",
      "          1       0.80      0.82      0.81     11832\n",
      "\n",
      "avg / total       0.82      0.82      0.82     32191\n",
      "\n"
     ]
    }
   ],
   "source": [
    "predicted = forest.predict(X_test)\n",
    "print(forest.score(X_test, y_test))\n",
    "print(metrics.classification_report(predicted,y_test))"
   ]
  },
  {
   "cell_type": "markdown",
   "metadata": {},
   "source": [
    "# Brute Force of parameters"
   ]
  },
  {
   "cell_type": "markdown",
   "metadata": {},
   "source": [
    "Number of trees"
   ]
  },
  {
   "cell_type": "code",
   "execution_count": 89,
   "metadata": {},
   "outputs": [
    {
     "name": "stdout",
     "output_type": "stream",
     "text": [
      "Trees  200\n",
      "Score 0.816128731633\n",
      "Trees  350\n",
      "Score 0.817215992047\n",
      "Trees  400\n",
      "Score 0.81780621913\n",
      "Trees  500\n",
      "Score 0.818396446212\n",
      "Trees  700\n",
      "Score 0.818241123295\n"
     ]
    },
    {
     "data": {
      "text/plain": [
       "<matplotlib.axes._subplots.AxesSubplot at 0x7f7415d08898>"
      ]
     },
     "execution_count": 89,
     "metadata": {},
     "output_type": "execute_result"
    }
   ],
   "source": [
    "n_estimators = [200,350,400,500,700]\n",
    "results = []\n",
    "for trees in n_estimators:\n",
    "    forest = RandomForestClassifier(n_estimators=trees,random_state=42)\n",
    "    forest.fit(X_train,y_train)\n",
    "    print(\"Trees \",trees)\n",
    "    print(\"Score\", forest.score(X_test,y_test))\n",
    "    results.append(forest.score(X_test,y_test))  \n",
    "pd.Series(results,n_estimators).plot()  "
   ]
  },
  {
   "cell_type": "code",
   "execution_count": 90,
   "metadata": {},
   "outputs": [
    {
     "data": {
      "image/png": "[encoded data removed]",
      "text/plain": [
       "<matplotlib.figure.Figure at 0x7f742c969e48>"
      ]
     },
     "metadata": {},
     "output_type": "display_data"
    }
   ],
   "source": [
    "plt.show()"
   ]
  },
  {
   "cell_type": "code",
   "execution_count": 91,
   "metadata": {},
   "outputs": [
    {
     "name": "stdout",
     "output_type": "stream",
     "text": [
      "Feature sqrt\n",
      "Score 0.818396446212\n",
      "Feature log2\n",
      "Score 0.816905346215\n"
     ]
    },
    {
     "data": {
      "text/plain": [
       "<matplotlib.axes._subplots.AxesSubplot at 0x7f7416a5fa20>"
      ]
     },
     "execution_count": 91,
     "metadata": {},
     "output_type": "execute_result"
    }
   ],
   "source": [
    "max_features = [\"sqrt\", \"log2\"]\n",
    "results = []\n",
    "\n",
    "for feature in max_features:\n",
    "    forest = RandomForestClassifier(n_estimators=500, max_features = feature, random_state =42)\n",
    "    forest.fit(X_train,y_train)\n",
    "    print(\"Feature\", feature)\n",
    "    print(\"Score\", forest.score(X_test,y_test))\n",
    "    results.append(forest.score(X_test,y_test))\n",
    "pd.Series(results,max_features).plot(kind='bar')    "
   ]
  },
  {
   "cell_type": "code",
   "execution_count": 92,
   "metadata": {},
   "outputs": [
    {
     "data": {
      "image/png": "[encoded data removed]",
      "text/plain": [
       "<matplotlib.figure.Figure at 0x7f7416a56d30>"
      ]
     },
     "metadata": {},
     "output_type": "display_data"
    }
   ],
   "source": [
    "plt.show()"
   ]
  },
  {
   "cell_type": "code",
   "execution_count": 95,
   "metadata": {},
   "outputs": [
    {
     "name": "stdout",
     "output_type": "stream",
     "text": [
      "Depth 1\n",
      "Score 0.587710850859\n",
      "Depth 2\n",
      "Score 0.662079463204\n",
      "Depth 5\n",
      "Score 0.6958777298\n",
      "Depth 10\n",
      "Score 0.752632723432\n",
      "Depth 15\n",
      "Score 0.806032742071\n",
      "Depth 20\n",
      "Score 0.8161908608\n",
      "Depth 30\n",
      "Score 0.818116864962\n",
      "Depth 50\n",
      "Score 0.818769221211\n",
      "Depth 80\n",
      "Score 0.818396446212\n"
     ]
    },
    {
     "data": {
      "text/plain": [
       "<matplotlib.axes._subplots.AxesSubplot at 0x7f74168cd2e8>"
      ]
     },
     "execution_count": 95,
     "metadata": {},
     "output_type": "execute_result"
    }
   ],
   "source": [
    "max_depth = [1,2,5,10,15,20,30,50,80]\n",
    "results = []\n",
    "\n",
    "for depth in max_depth:\n",
    "    forest = RandomForestClassifier(n_estimators=500, max_features='sqrt', max_depth=depth, random_state = 42)\n",
    "    forest.fit(X_train,y_train)\n",
    "    print(\"Depth\", depth)\n",
    "    print(\"Score\", forest.score(X_test, y_test))\n",
    "    results.append(forest.score(X_test, y_test))\n",
    "pd.Series(results,max_depth).plot()    "
   ]
  },
  {
   "cell_type": "code",
   "execution_count": 96,
   "metadata": {},
   "outputs": [
    {
     "data": {
      "image/png": "[encoded data removed]",
      "text/plain": [
       "<matplotlib.figure.Figure at 0x7f7416a15550>"
      ]
     },
     "metadata": {},
     "output_type": "display_data"
    }
   ],
   "source": [
    "plt.show()"
   ]
  },
  {
   "cell_type": "code",
   "execution_count": 98,
   "metadata": {},
   "outputs": [
    {
     "name": "stdout",
     "output_type": "stream",
     "text": [
      "Leaf(s) 1\n",
      "Score 0.818769221211\n",
      "Leaf(s) 2\n",
      "Score 0.818551769128\n",
      "Leaf(s) 3\n",
      "Score 0.815631698301\n",
      "Leaf(s) 4\n",
      "Score 0.813767823305\n",
      "Leaf(s) 5\n",
      "Score 0.813301854556\n"
     ]
    },
    {
     "data": {
      "text/plain": [
       "<matplotlib.axes._subplots.AxesSubplot at 0x7f74168b0128>"
      ]
     },
     "execution_count": 98,
     "metadata": {},
     "output_type": "execute_result"
    }
   ],
   "source": [
    "min_samples_leaf = [1,2,3,4,5]\n",
    "results = []\n",
    "for leaf in min_samples_leaf:\n",
    "    forest = RandomForestClassifier(n_estimators=500,max_features=\"sqrt\",max_depth=50, \\\n",
    "                                   min_samples_leaf=leaf,random_state=42)\n",
    "    forest.fit(X_train,y_train)\n",
    "    print(\"Leaf(s)\",leaf)\n",
    "    print(\"Score\",forest.score(X_test,y_test))\n",
    "    results.append(forest.score(X_test,y_test))\n",
    "pd.Series(results,min_samples_leaf).plot() "
   ]
  },
  {
   "cell_type": "code",
   "execution_count": 99,
   "metadata": {},
   "outputs": [
    {
     "data": {
      "image/png": "[encoded data removed]",
      "text/plain": [
       "<matplotlib.figure.Figure at 0x7f7416a010b8>"
      ]
     },
     "metadata": {},
     "output_type": "display_data"
    }
   ],
   "source": [
    "plt.show()"
   ]
  },
  {
   "cell_type": "markdown",
   "metadata": {},
   "source": [
    "### Final model with tuned parameters"
   ]
  },
  {
   "cell_type": "markdown",
   "metadata": {},
   "source": [
    "#### Train data with 80 % of data and test with 20%"
   ]
  },
  {
   "cell_type": "code",
   "execution_count": 131,
   "metadata": {},
   "outputs": [],
   "source": [
    "forest = RandomForestClassifier(n_estimators = 500, max_features = \"sqrt\", max_depth = 50, \\\n",
    "                               min_samples_leaf =1, random_state = 42)"
   ]
  },
  {
   "cell_type": "code",
   "execution_count": 134,
   "metadata": {},
   "outputs": [
    {
     "data": {
      "text/plain": [
       "RandomForestClassifier(bootstrap=True, class_weight=None, criterion='gini',\n",
       "            max_depth=50, max_features='sqrt', max_leaf_nodes=None,\n",
       "            min_impurity_split=1e-07, min_samples_leaf=1,\n",
       "            min_samples_split=2, min_weight_fraction_leaf=0.0,\n",
       "            n_estimators=500, n_jobs=1, oob_score=False, random_state=42,\n",
       "            verbose=0, warm_start=False)"
      ]
     },
     "execution_count": 134,
     "metadata": {},
     "output_type": "execute_result"
    }
   ],
   "source": [
    "forest.fit(X_train,y_train)"
   ]
  },
  {
   "cell_type": "code",
   "execution_count": 135,
   "metadata": {
    "collapsed": true
   },
   "outputs": [],
   "source": [
    "predicted = forest.predict(X_test)"
   ]
  },
  {
   "cell_type": "code",
   "execution_count": 136,
   "metadata": {},
   "outputs": [
    {
     "name": "stdout",
     "output_type": "stream",
     "text": [
      "Accuracy\n",
      "0.817992606629\n",
      "Metrics\n",
      "             precision    recall  f1-score   support\n",
      "\n",
      "         -1       0.61      0.80      0.70      1977\n",
      "          0       0.86      0.82      0.84     18410\n",
      "          1       0.80      0.82      0.81     11804\n",
      "\n",
      "avg / total       0.82      0.82      0.82     32191\n",
      "\n"
     ]
    }
   ],
   "source": [
    "print(\"Accuracy\")\n",
    "print(forest.score(X_test,y_test))\n",
    "print(\"Metrics\")\n",
    "print(metrics.classification_report(predicted,y_test))"
   ]
  },
  {
   "cell_type": "markdown",
   "metadata": {},
   "source": [
    "#### Train with all data provided and test it from another source"
   ]
  },
  {
   "cell_type": "code",
   "execution_count": 105,
   "metadata": {
    "collapsed": true
   },
   "outputs": [],
   "source": [
    "with open (\"data_test.json\") as file:\n",
    "    test_set = json.loads(file.read())"
   ]
  },
  {
   "cell_type": "markdown",
   "metadata": {},
   "source": [
    "Clean our test data as train data "
   ]
  },
  {
   "cell_type": "code",
   "execution_count": 110,
   "metadata": {},
   "outputs": [],
   "source": [
    "for i in range(0, len(test_set)):\n",
    "    test_set[i]['text'] = cleansing(test_set[i]['text'])"
   ]
  },
  {
   "cell_type": "code",
   "execution_count": 111,
   "metadata": {},
   "outputs": [
    {
     "name": "stdout",
     "output_type": "stream",
     "text": [
      "4623\n",
      "1416\n"
     ]
    }
   ],
   "source": [
    "# deleting duplicates \n",
    "new_list = list()\n",
    "cnt = 0\n",
    "for i in test_set:\n",
    "    if (i not in new_list):\n",
    "        new_list.append(i)\n",
    "    else:\n",
    "        cnt+=1\n",
    "print (cnt)\n",
    "\n",
    "#deleting duplicates with the same text but with different sentiment\n",
    "new_list2 = list()\n",
    "cnt = 0\n",
    "for i in new_list:\n",
    "    check = False\n",
    "    for j in new_list:\n",
    "        if (i[\"text\"] == j[\"text\"]) and ( i[\"manual_sentiment\"] != j[\"manual_sentiment\"] ):\n",
    "            check = True\n",
    "            cnt+=1\n",
    "    if check == False:\n",
    "        new_list2.append(i)\n",
    "print(cnt)\n",
    "new_list.clear()"
   ]
  },
  {
   "cell_type": "code",
   "execution_count": 112,
   "metadata": {
    "collapsed": true
   },
   "outputs": [],
   "source": [
    "test_text = []\n",
    "test_sentiment = []\n",
    "for item in test_set:\n",
    "    test_text.append(item[\"text\"])\n",
    "    if item['manual_sentiment'] == 'neutral':\n",
    "        test_sentiment.append(0)\n",
    "    elif item['manual_sentiment'] == 'positive':\n",
    "        test_sentiment.append(1)\n",
    "    else:\n",
    "        test_sentiment.append(-1)"
   ]
  },
  {
   "cell_type": "code",
   "execution_count": 130,
   "metadata": {},
   "outputs": [],
   "source": [
    "test = getAverageVec(test_text, model, num_features)"
   ]
  },
  {
   "cell_type": "markdown",
   "metadata": {},
   "source": [
    "#### Final model"
   ]
  },
  {
   "cell_type": "code",
   "execution_count": 137,
   "metadata": {
    "collapsed": true
   },
   "outputs": [],
   "source": [
    "Final_RandomForest_model = RandomForestClassifier(n_estimators = 500, max_features = \"sqrt\", max_depth = 50, \\\n",
    "                               min_samples_leaf =1, random_state = 42)"
   ]
  },
  {
   "cell_type": "code",
   "execution_count": 138,
   "metadata": {},
   "outputs": [
    {
     "data": {
      "text/plain": [
       "RandomForestClassifier(bootstrap=True, class_weight=None, criterion='gini',\n",
       "            max_depth=50, max_features='sqrt', max_leaf_nodes=None,\n",
       "            min_impurity_split=1e-07, min_samples_leaf=1,\n",
       "            min_samples_split=2, min_weight_fraction_leaf=0.0,\n",
       "            n_estimators=500, n_jobs=1, oob_score=False, random_state=42,\n",
       "            verbose=0, warm_start=False)"
      ]
     },
     "execution_count": 138,
     "metadata": {},
     "output_type": "execute_result"
    }
   ],
   "source": [
    "Final_RandomForest_model.fit(DataVecs,sentiment)"
   ]
  },
  {
   "cell_type": "code",
   "execution_count": 139,
   "metadata": {
    "collapsed": true
   },
   "outputs": [],
   "source": [
    "predicted = Final_RandomForest_model.predict(test)"
   ]
  },
  {
   "cell_type": "code",
   "execution_count": 140,
   "metadata": {},
   "outputs": [
    {
     "name": "stdout",
     "output_type": "stream",
     "text": [
      "Accuracy\n",
      "0.757397378542\n",
      "Metrics\n",
      "             precision    recall  f1-score   support\n",
      "\n",
      "         -1       0.11      0.57      0.19       218\n",
      "          0       0.90      0.79      0.84     10372\n",
      "          1       0.52      0.62      0.57      2151\n",
      "\n",
      "avg / total       0.82      0.76      0.78     12741\n",
      "\n"
     ]
    }
   ],
   "source": [
    "print(\"Accuracy\")\n",
    "print(Final_RandomForest_model.score(test,test_sentiment))\n",
    "print(\"Metrics\")\n",
    "print(metrics.classification_report(predicted,test_sentiment))"
   ]
  },
  {
   "cell_type": "markdown",
   "metadata": {},
   "source": [
    "##### In conclusion, Random Forest model doesn't shows us good results. Only for texts with neutral sentiment, it shows good precision and recall value, while for negative it is not enough for our final solution. In future work I have to make cross-validation to detect is my model is overfitted or not, and try to tune my model with other parameters."
   ]
  },
  {
   "cell_type": "code",
   "execution_count": null,
   "metadata": {
    "collapsed": true
   },
   "outputs": [],
   "source": []
  }
 ],
 "metadata": {
  "kernelspec": {
   "display_name": "Python 3",
   "language": "python",
   "name": "python3"
  },
  "language_info": {
   "codemirror_mode": {
    "name": "ipython",
    "version": 3
   },
   "file_extension": ".py",
   "mimetype": "text/x-python",
   "name": "python",
   "nbconvert_exporter": "python",
   "pygments_lexer": "ipython3",
   "version": "3.6.1"
  }
 },
 "nbformat": 4,
 "nbformat_minor": 2
}
